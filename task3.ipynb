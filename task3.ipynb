import unittest
from datetime import datetime, timedelta
from serviceable import CapuletEngine, WilloughbyEngine, SternmanEngine, SpindlerBattery, NubbinBattery

class TestCapuletEngine(unittest.TestCase):
    def test_needs_service_true(self):
        engine = CapuletEngine(last_service_mileage=0, current_mileage=30001)
        self.assertTrue(engine.needs_service())

    def test_needs_service_false(self):
        engine = CapuletEngine(last_service_mileage=0, current_mileage=29999)
        self.assertFalse(engine.needs_service())

class TestWilloughbyEngine(unittest.TestCase):
    def test_needs_service_true(self):
        engine = WilloughbyEngine(last_service_mileage=0, current_mileage=60001)
        self.assertTrue(engine.needs_service())

    def test_needs_service_false(self):
        engine = WilloughbyEngine(last_service_mileage=0, current_mileage=59999)
        self.assertFalse(engine.needs_service())

class TestSternmanEngine(unittest.TestCase):
    def test_needs_service_true(self):
        engine = SternmanEngine(warning_light_on=True)
        self.assertTrue(engine.needs_service())

    def test_needs_service_false(self):
        engine = SternmanEngine(warning_light_on=False)
        self.assertFalse(engine.needs_service())

class TestSpindlerBattery(unittest.TestCase):
    def test_needs_service_true(self):
        last_service_date = datetime.today() - timedelta(days=731)
        current_date = datetime.today()
        battery = SpindlerBattery(last_service_date=last_service_date, current_date=current_date)
        self.assertTrue(battery.needs_service())

    def test_needs_service_false(self):
        last_service_date = datetime.today() - timedelta(days=729)
        current_date = datetime.today()
        battery = SpindlerBattery(last_service_date=last_service_date, current_date=current_date)
        self.assertFalse(battery.needs_service())

class TestNubbinBattery(unittest.TestCase):
    def test_needs_service_true(self):
        last_service_date = datetime.today() - timedelta(days=1461)
        current_date = datetime.today()
        battery = NubbinBattery(last_service_date=last_service_date, current_date=current_date)
        self.assertTrue(battery.needs_service())

    def test_needs_service_false(self):
        last_service_date = datetime.today() - timedelta(days=1459)
        current_date = datetime.today()
        battery = NubbinBattery(last_service_date=last_service_date, current_date=current_date)
        self.assertFalse(battery.needs_service())

if __name__ == '__main__':
    unittest.main()
